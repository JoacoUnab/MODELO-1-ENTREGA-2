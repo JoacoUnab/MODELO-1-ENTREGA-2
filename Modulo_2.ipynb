{
  "nbformat": 4,
  "nbformat_minor": 0,
  "metadata": {
    "colab": {
      "provenance": [],
      "authorship_tag": "ABX9TyN2zWG6IuRUyc22ZYeZDSRo",
      "include_colab_link": true
    },
    "kernelspec": {
      "name": "python3",
      "display_name": "Python 3"
    },
    "language_info": {
      "name": "python"
    }
  },
  "cells": [
    {
      "cell_type": "markdown",
      "metadata": {
        "id": "view-in-github",
        "colab_type": "text"
      },
      "source": [
        "<a href=\"https://colab.research.google.com/github/JoacoUnab/MODELO-1-ENTREGA-2/blob/main/Modulo_2.ipynb\" target=\"_parent\"><img src=\"https://colab.research.google.com/assets/colab-badge.svg\" alt=\"Open In Colab\"/></a>"
      ]
    },
    {
      "cell_type": "markdown",
      "source": [
        "\n",
        "\n",
        "*   Descripción de los datos\n",
        "\n",
        "\n"
      ],
      "metadata": {
        "id": "jKmTtr8fxLXg"
      }
    },
    {
      "cell_type": "code",
      "execution_count": 22,
      "metadata": {
        "colab": {
          "base_uri": "https://localhost:8080/"
        },
        "id": "rS4oSBH0nmM8",
        "outputId": "c19029e5-32ae-4ab2-c16b-5b2aadf0ac40"
      },
      "outputs": [
        {
          "output_type": "stream",
          "name": "stdout",
          "text": [
            "\n",
            "Nombres de las columnas:\n",
            "Marital status\n",
            "Application mode\n",
            "Application order\n",
            "Course\n",
            "Daytime/evening attendance\t\n",
            "Previous qualification\n",
            "Previous qualification (grade)\n",
            "Nacionality\n",
            "Mother's qualification\n",
            "Father's qualification\n",
            "Mother's occupation\n",
            "Father's occupation\n",
            "Admission grade\n",
            "Displaced\n",
            "Educational special needs\n",
            "Debtor\n",
            "Tuition fees up to date\n",
            "Gender\n",
            "Scholarship holder\n",
            "Age at enrollment\n",
            "International\n",
            "Curricular units 1st sem (credited)\n",
            "Curricular units 1st sem (enrolled)\n",
            "Curricular units 1st sem (evaluations)\n",
            "Curricular units 1st sem (approved)\n",
            "Curricular units 1st sem (grade)\n",
            "Curricular units 1st sem (without evaluations)\n",
            "Curricular units 2nd sem (credited)\n",
            "Curricular units 2nd sem (enrolled)\n",
            "Curricular units 2nd sem (evaluations)\n",
            "Curricular units 2nd sem (approved)\n",
            "Curricular units 2nd sem (grade)\n",
            "Curricular units 2nd sem (without evaluations)\n",
            "Unemployment rate\n",
            "Inflation rate\n",
            "GDP\n",
            "Target\n",
            "\n",
            "Cantidad de registros: 4424\n",
            "Número de variables: 37\n",
            "Número de clases: 3\n"
          ]
        }
      ],
      "source": [
        "import pandas as pd\n",
        "import matplotlib.pyplot as plt\n",
        "\n",
        "# Leer el dataset con separador de punto y coma\n",
        "data = pd.read_csv('data.csv', sep=';')\n",
        "\n",
        "\n",
        "# Imprimir los nombres de las columnas\n",
        "print(\"\\nNombres de las columnas:\")\n",
        "for column in data.columns:\n",
        "    print(column)\n",
        "\n",
        "# Cantidad de registros\n",
        "num_records = data.shape[0]\n",
        "\n",
        "# Número de variables\n",
        "num_variables = data.shape[1]\n",
        "\n",
        "# Número de clases (asumiendo que la columna objetivo se llama 'Target' o algo similar)\n",
        "# Verificamos el nombre exacto de la columna objetivo\n",
        "target_column = 'Target'  # Reemplazar con el nombre correcto si es diferente\n",
        "\n",
        "# Verificar el nombre exacto de la columna objetivo\n",
        "if target_column not in data.columns:\n",
        "    print(f\"Las columnas del dataset son: {list(data.columns)}\")\n",
        "    raise KeyError(f\"La columna '{target_column}' no existe en el dataset. Por favor verifica el nombre de la columna.\")\n",
        "\n",
        "# Número de clases\n",
        "num_classes = len(data[target_column].unique())\n",
        "\n",
        "# Mostrar los resultados\n",
        "print(\"\\nCantidad de registros:\", num_records)\n",
        "print(\"Número de variables:\", num_variables)\n",
        "print(\"Número de clases:\", num_classes)\n"
      ]
    },
    {
      "cell_type": "markdown",
      "source": [
        "*   Implementacion de Librerias\n",
        "*   Preporcesamiento de datos\n",
        "*   Codificación de valores faltantes\n",
        "\n",
        "\n",
        "\n"
      ],
      "metadata": {
        "id": "rUvSgW5RI2R9"
      }
    },
    {
      "cell_type": "code",
      "source": [
        "from sklearn.model_selection import train_test_split, cross_val_score\n",
        "from sklearn.preprocessing import StandardScaler, LabelEncoder\n",
        "from sklearn.ensemble import RandomForestClassifier, GradientBoostingClassifier, VotingClassifier\n",
        "from sklearn.tree import DecisionTreeClassifier\n",
        "from sklearn.svm import SVC\n",
        "from sklearn.metrics import accuracy_score, f1_score\n",
        "from sklearn.impute import SimpleImputer\n",
        "\n",
        "# Preprocesamiento de datos\n",
        "# Imputación de valores faltantes\n",
        "imputer = SimpleImputer(strategy='most_frequent')\n",
        "data_imputed = pd.DataFrame(imputer.fit_transform(data), columns=data.columns)\n",
        "\n",
        "# Codificación de variables categóricas\n",
        "label_encoders = {}\n",
        "for column in data_imputed.select_dtypes(include=['object']).columns:\n",
        "    if column != 'Target':\n",
        "        le = LabelEncoder()\n",
        "        data_imputed[column] = le.fit_transform(data_imputed[column])\n",
        "        label_encoders[column] = le\n",
        "\n"
      ],
      "metadata": {
        "id": "bsIjgxts19nv"
      },
      "execution_count": 69,
      "outputs": []
    },
    {
      "cell_type": "markdown",
      "source": [
        "*   Codificación de la variable objetivo\n",
        "*   Division del dataset en conjuntos de entrenamiento y prueba\n",
        "*   Normalización de características\n",
        "\n",
        "\n",
        "\n"
      ],
      "metadata": {
        "id": "EQkAxw1lJE2m"
      }
    },
    {
      "cell_type": "code",
      "source": [
        "# Codificación de la variable objetivo\n",
        "le_target = LabelEncoder()\n",
        "y = le_target.fit_transform(data_imputed['Target'])\n",
        "\n",
        "# Dividir el dataset en conjuntos de entrenamiento y prueba\n",
        "X_train, X_test, y_train, y_test = train_test_split(data_imputed.drop('Target', axis=1), y, test_size=0.2, random_state=42)\n",
        "\n",
        "# Normalización de características\n",
        "scaler = StandardScaler()\n",
        "X_train = scaler.fit_transform(X_train)\n",
        "X_test = scaler.transform(X_test)"
      ],
      "metadata": {
        "id": "zRwg1XvX2A1i"
      },
      "execution_count": 70,
      "outputs": []
    },
    {
      "cell_type": "markdown",
      "source": [
        "\n",
        "\n",
        "*   Entrenamiento modelo Random Forest....\n",
        "*   Entrenamieno modelo Gradient...\n",
        "*   Entrenamiento modelo DecisionTree....\n",
        "*   Entrenamiento modelo SVM\n",
        "*   Creacion modelo Voting.....\n",
        "\n"
      ],
      "metadata": {
        "id": "Rj0zLRUxJz3p"
      }
    },
    {
      "cell_type": "code",
      "source": [
        "# Entrenar un modelo de RandomForestClassifier\n",
        "model_rf = RandomForestClassifier(random_state=42)\n",
        "model_rf.fit(X_train, y_train)\n",
        "\n",
        "# Entrenar un modelo de GradientBoostingClassifier\n",
        "model_gb = GradientBoostingClassifier(random_state=42)\n",
        "model_gb.fit(X_train, y_train)\n",
        "\n",
        "# Entrenar un modelo de DecisionTreeClassifier\n",
        "model_dt = DecisionTreeClassifier(random_state=42)\n",
        "model_dt.fit(X_train, y_train)\n",
        "\n",
        "# Entrenar un modelo de SVM\n",
        "model_svc = SVC(random_state=42)\n",
        "model_svc.fit(X_train, y_train)\n",
        "\n",
        "# Crear el modelo VotingClassifier\n",
        "voting_clf = VotingClassifier(estimators=[('rf', model_rf), ('gb', model_gb), ('dt', model_dt), ('svc', model_svc)], voting='hard')\n",
        "voting_clf.fit(X_train, y_train)"
      ],
      "metadata": {
        "colab": {
          "base_uri": "https://localhost:8080/",
          "height": 110
        },
        "id": "dOv5uKMC2DcI",
        "outputId": "1f6fc1d1-0da4-4d45-e691-6d5d61b865ef"
      },
      "execution_count": 71,
      "outputs": [
        {
          "output_type": "execute_result",
          "data": {
            "text/plain": [
              "VotingClassifier(estimators=[('rf', RandomForestClassifier(random_state=42)),\n",
              "                             ('gb',\n",
              "                              GradientBoostingClassifier(random_state=42)),\n",
              "                             ('dt', DecisionTreeClassifier(random_state=42)),\n",
              "                             ('svc', SVC(random_state=42))])"
            ],
            "text/html": [
              "<style>#sk-container-id-4 {color: black;background-color: white;}#sk-container-id-4 pre{padding: 0;}#sk-container-id-4 div.sk-toggleable {background-color: white;}#sk-container-id-4 label.sk-toggleable__label {cursor: pointer;display: block;width: 100%;margin-bottom: 0;padding: 0.3em;box-sizing: border-box;text-align: center;}#sk-container-id-4 label.sk-toggleable__label-arrow:before {content: \"▸\";float: left;margin-right: 0.25em;color: #696969;}#sk-container-id-4 label.sk-toggleable__label-arrow:hover:before {color: black;}#sk-container-id-4 div.sk-estimator:hover label.sk-toggleable__label-arrow:before {color: black;}#sk-container-id-4 div.sk-toggleable__content {max-height: 0;max-width: 0;overflow: hidden;text-align: left;background-color: #f0f8ff;}#sk-container-id-4 div.sk-toggleable__content pre {margin: 0.2em;color: black;border-radius: 0.25em;background-color: #f0f8ff;}#sk-container-id-4 input.sk-toggleable__control:checked~div.sk-toggleable__content {max-height: 200px;max-width: 100%;overflow: auto;}#sk-container-id-4 input.sk-toggleable__control:checked~label.sk-toggleable__label-arrow:before {content: \"▾\";}#sk-container-id-4 div.sk-estimator input.sk-toggleable__control:checked~label.sk-toggleable__label {background-color: #d4ebff;}#sk-container-id-4 div.sk-label input.sk-toggleable__control:checked~label.sk-toggleable__label {background-color: #d4ebff;}#sk-container-id-4 input.sk-hidden--visually {border: 0;clip: rect(1px 1px 1px 1px);clip: rect(1px, 1px, 1px, 1px);height: 1px;margin: -1px;overflow: hidden;padding: 0;position: absolute;width: 1px;}#sk-container-id-4 div.sk-estimator {font-family: monospace;background-color: #f0f8ff;border: 1px dotted black;border-radius: 0.25em;box-sizing: border-box;margin-bottom: 0.5em;}#sk-container-id-4 div.sk-estimator:hover {background-color: #d4ebff;}#sk-container-id-4 div.sk-parallel-item::after {content: \"\";width: 100%;border-bottom: 1px solid gray;flex-grow: 1;}#sk-container-id-4 div.sk-label:hover label.sk-toggleable__label {background-color: #d4ebff;}#sk-container-id-4 div.sk-serial::before {content: \"\";position: absolute;border-left: 1px solid gray;box-sizing: border-box;top: 0;bottom: 0;left: 50%;z-index: 0;}#sk-container-id-4 div.sk-serial {display: flex;flex-direction: column;align-items: center;background-color: white;padding-right: 0.2em;padding-left: 0.2em;position: relative;}#sk-container-id-4 div.sk-item {position: relative;z-index: 1;}#sk-container-id-4 div.sk-parallel {display: flex;align-items: stretch;justify-content: center;background-color: white;position: relative;}#sk-container-id-4 div.sk-item::before, #sk-container-id-4 div.sk-parallel-item::before {content: \"\";position: absolute;border-left: 1px solid gray;box-sizing: border-box;top: 0;bottom: 0;left: 50%;z-index: -1;}#sk-container-id-4 div.sk-parallel-item {display: flex;flex-direction: column;z-index: 1;position: relative;background-color: white;}#sk-container-id-4 div.sk-parallel-item:first-child::after {align-self: flex-end;width: 50%;}#sk-container-id-4 div.sk-parallel-item:last-child::after {align-self: flex-start;width: 50%;}#sk-container-id-4 div.sk-parallel-item:only-child::after {width: 0;}#sk-container-id-4 div.sk-dashed-wrapped {border: 1px dashed gray;margin: 0 0.4em 0.5em 0.4em;box-sizing: border-box;padding-bottom: 0.4em;background-color: white;}#sk-container-id-4 div.sk-label label {font-family: monospace;font-weight: bold;display: inline-block;line-height: 1.2em;}#sk-container-id-4 div.sk-label-container {text-align: center;}#sk-container-id-4 div.sk-container {/* jupyter's `normalize.less` sets `[hidden] { display: none; }` but bootstrap.min.css set `[hidden] { display: none !important; }` so we also need the `!important` here to be able to override the default hidden behavior on the sphinx rendered scikit-learn.org. See: https://github.com/scikit-learn/scikit-learn/issues/21755 */display: inline-block !important;position: relative;}#sk-container-id-4 div.sk-text-repr-fallback {display: none;}</style><div id=\"sk-container-id-4\" class=\"sk-top-container\"><div class=\"sk-text-repr-fallback\"><pre>VotingClassifier(estimators=[(&#x27;rf&#x27;, RandomForestClassifier(random_state=42)),\n",
              "                             (&#x27;gb&#x27;,\n",
              "                              GradientBoostingClassifier(random_state=42)),\n",
              "                             (&#x27;dt&#x27;, DecisionTreeClassifier(random_state=42)),\n",
              "                             (&#x27;svc&#x27;, SVC(random_state=42))])</pre><b>In a Jupyter environment, please rerun this cell to show the HTML representation or trust the notebook. <br />On GitHub, the HTML representation is unable to render, please try loading this page with nbviewer.org.</b></div><div class=\"sk-container\" hidden><div class=\"sk-item sk-dashed-wrapped\"><div class=\"sk-label-container\"><div class=\"sk-label sk-toggleable\"><input class=\"sk-toggleable__control sk-hidden--visually\" id=\"sk-estimator-id-8\" type=\"checkbox\" ><label for=\"sk-estimator-id-8\" class=\"sk-toggleable__label sk-toggleable__label-arrow\">VotingClassifier</label><div class=\"sk-toggleable__content\"><pre>VotingClassifier(estimators=[(&#x27;rf&#x27;, RandomForestClassifier(random_state=42)),\n",
              "                             (&#x27;gb&#x27;,\n",
              "                              GradientBoostingClassifier(random_state=42)),\n",
              "                             (&#x27;dt&#x27;, DecisionTreeClassifier(random_state=42)),\n",
              "                             (&#x27;svc&#x27;, SVC(random_state=42))])</pre></div></div></div><div class=\"sk-parallel\"><div class=\"sk-parallel-item\"><div class=\"sk-item\"><div class=\"sk-label-container\"><div class=\"sk-label sk-toggleable\"><label>rf</label></div></div><div class=\"sk-serial\"><div class=\"sk-item\"><div class=\"sk-estimator sk-toggleable\"><input class=\"sk-toggleable__control sk-hidden--visually\" id=\"sk-estimator-id-9\" type=\"checkbox\" ><label for=\"sk-estimator-id-9\" class=\"sk-toggleable__label sk-toggleable__label-arrow\">RandomForestClassifier</label><div class=\"sk-toggleable__content\"><pre>RandomForestClassifier(random_state=42)</pre></div></div></div></div></div></div><div class=\"sk-parallel-item\"><div class=\"sk-item\"><div class=\"sk-label-container\"><div class=\"sk-label sk-toggleable\"><label>gb</label></div></div><div class=\"sk-serial\"><div class=\"sk-item\"><div class=\"sk-estimator sk-toggleable\"><input class=\"sk-toggleable__control sk-hidden--visually\" id=\"sk-estimator-id-10\" type=\"checkbox\" ><label for=\"sk-estimator-id-10\" class=\"sk-toggleable__label sk-toggleable__label-arrow\">GradientBoostingClassifier</label><div class=\"sk-toggleable__content\"><pre>GradientBoostingClassifier(random_state=42)</pre></div></div></div></div></div></div><div class=\"sk-parallel-item\"><div class=\"sk-item\"><div class=\"sk-label-container\"><div class=\"sk-label sk-toggleable\"><label>dt</label></div></div><div class=\"sk-serial\"><div class=\"sk-item\"><div class=\"sk-estimator sk-toggleable\"><input class=\"sk-toggleable__control sk-hidden--visually\" id=\"sk-estimator-id-11\" type=\"checkbox\" ><label for=\"sk-estimator-id-11\" class=\"sk-toggleable__label sk-toggleable__label-arrow\">DecisionTreeClassifier</label><div class=\"sk-toggleable__content\"><pre>DecisionTreeClassifier(random_state=42)</pre></div></div></div></div></div></div><div class=\"sk-parallel-item\"><div class=\"sk-item\"><div class=\"sk-label-container\"><div class=\"sk-label sk-toggleable\"><label>svc</label></div></div><div class=\"sk-serial\"><div class=\"sk-item\"><div class=\"sk-estimator sk-toggleable\"><input class=\"sk-toggleable__control sk-hidden--visually\" id=\"sk-estimator-id-12\" type=\"checkbox\" ><label for=\"sk-estimator-id-12\" class=\"sk-toggleable__label sk-toggleable__label-arrow\">SVC</label><div class=\"sk-toggleable__content\"><pre>SVC(random_state=42)</pre></div></div></div></div></div></div></div></div></div></div>"
            ]
          },
          "metadata": {},
          "execution_count": 71
        }
      ]
    },
    {
      "cell_type": "markdown",
      "source": [
        "\n",
        "\n",
        "*   Validación cruzada con 10 FOLDS\n",
        "\n",
        "\n",
        "\n"
      ],
      "metadata": {
        "id": "li-zb4oFKLyk"
      }
    },
    {
      "cell_type": "code",
      "source": [
        "# Validación cruzada con 10 folds\n",
        "models = [model_rf, model_gb, model_dt, model_svc, voting_clf]\n",
        "model_names = ['RandomForest', 'GradientBoosting', 'DecisionTree', 'SVM', 'VotingClassifier']\n",
        "for model, name in zip(models, model_names):\n",
        "    cv_scores = cross_val_score(model, X_train, y_train, cv=10, scoring='accuracy')\n",
        "    print(f\"{name} CV Score: {cv_scores.mean()}\")"
      ],
      "metadata": {
        "colab": {
          "base_uri": "https://localhost:8080/"
        },
        "id": "M67obBYV2Ffh",
        "outputId": "968b4f05-274a-4224-d6c3-9580acfb3c0e"
      },
      "execution_count": 74,
      "outputs": [
        {
          "output_type": "stream",
          "name": "stdout",
          "text": [
            "RandomForest CV Score: 0.7739496807029338\n",
            "GradientBoosting CV Score: 0.7829884284822587\n",
            "DecisionTree CV Score: 0.682962820697492\n",
            "SVM CV Score: 0.7668819321073606\n",
            "VotingClassifier CV Score: 0.7824226564875721\n"
          ]
        }
      ]
    },
    {
      "cell_type": "markdown",
      "source": [
        "\n",
        "\n",
        "*   Predicciones y evaluación\n",
        "\n"
      ],
      "metadata": {
        "id": "gdF_cUzbKTu3"
      }
    },
    {
      "cell_type": "code",
      "source": [
        "# Predicciones y evaluación\n",
        "for model, name in zip(models, model_names):\n",
        "    y_pred = model.predict(X_test)\n",
        "    accuracy = accuracy_score(y_test, y_pred)\n",
        "    f1 = f1_score(y_test, y_pred, average='weighted')\n",
        "    print(f\"\\n{name} - Accuracy: {accuracy}, F1-Score: {f1}\")"
      ],
      "metadata": {
        "colab": {
          "base_uri": "https://localhost:8080/"
        },
        "id": "DnYoN8pu2JeK",
        "outputId": "3c694fb3-ef59-4ae4-fea8-3df3e16a594f"
      },
      "execution_count": 75,
      "outputs": [
        {
          "output_type": "stream",
          "name": "stdout",
          "text": [
            "\n",
            "RandomForest - Accuracy: 0.7559322033898305, F1-Score: 0.7384726059789364\n",
            "\n",
            "GradientBoosting - Accuracy: 0.7615819209039548, F1-Score: 0.7480891952898038\n",
            "\n",
            "DecisionTree - Accuracy: 0.6779661016949152, F1-Score: 0.6807140038188586\n",
            "\n",
            "SVM - Accuracy: 0.7570621468926554, F1-Score: 0.739037352194901\n",
            "\n",
            "VotingClassifier - Accuracy: 0.7638418079096045, F1-Score: 0.7475623053526819\n"
          ]
        }
      ]
    }
  ]
}